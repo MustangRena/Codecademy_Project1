{
 "cells": [
  {
   "cell_type": "markdown",
   "metadata": {},
   "source": [
    "# U.S. Medical Insurance Costs"
   ]
  },
  {
   "cell_type": "code",
   "execution_count": null,
   "metadata": {},
   "outputs": [],
   "source": [
    "First project on Data Science Path on Codecademy. Using pandas, wanted to see the avg cost difference for those with and without children."
   ]
  },
  {
   "cell_type": "code",
   "execution_count": 20,
   "metadata": {},
   "outputs": [
    {
     "name": "stdout",
     "output_type": "stream",
     "text": [
      "Average insurance cost with children:  13949.941093481675\n",
      "Average insurance cost without children:  12365.97560163589\n"
     ]
    }
   ],
   "source": [
    "import csv\n",
    "import pandas as pd\n",
    "\n",
    "df = pd.read_csv('insurance.csv')\n",
    "\n",
    "with_children = df[df['children'] > 0]\n",
    "without_children = df[df['children'] == 0]\n",
    "\n",
    "#Calculate average insurance cost for those with children\n",
    "average_cost_without_children = without_children['charges'].mean()\n",
    "\n",
    "average_cost_with_children = with_children['charges'].mean()\n",
    "\n",
    "print('Average insurance cost with children: ', average_cost_with_children)\n",
    "print('Average insurance cost without children: ', average_cost_without_children)\n",
    "\n",
    "#wtihout_children_count = []\n",
    "#with_children_count = []\n",
    "\n",
    "\n",
    "#Open & read csv file\n",
    "#with open('insurance.csv', 'r') as insurance_csv_file:\n",
    " #   insurance_reader = csv.DictReader(insurance_csv)\n",
    " #   headers = next(insurance_reader)\n",
    " #   for row in insurance_reader:\n",
    " #       if row['children']== 0:\n",
    " #           without_children.append(row)\n",
    " #       else:\n",
    " #           with_children.append(row)\n",
    "\n",
    "#def average_cost_without_children_cost(wtihout_children):\n",
    "#    total_cost = 0\n",
    "#    for row in wtihout_children:\n",
    "#        total_cost +=float(row['charges'])\n",
    "#    return total_cost / len(wtihout_children)\n",
    "\n",
    "\n",
    "\n",
    "\n",
    "\n",
    "    \n"
   ]
  },
  {
   "cell_type": "markdown",
   "metadata": {},
   "source": [
    "Adding to GitHub"
   ]
  }
 ],
 "metadata": {
  "kernelspec": {
   "display_name": "Python 3 (ipykernel)",
   "language": "python",
   "name": "python3"
  },
  "language_info": {
   "codemirror_mode": {
    "name": "ipython",
    "version": 3
   },
   "file_extension": ".py",
   "mimetype": "text/x-python",
   "name": "python",
   "nbconvert_exporter": "python",
   "pygments_lexer": "ipython3",
   "version": "3.10.9"
  }
 },
 "nbformat": 4,
 "nbformat_minor": 4
}
